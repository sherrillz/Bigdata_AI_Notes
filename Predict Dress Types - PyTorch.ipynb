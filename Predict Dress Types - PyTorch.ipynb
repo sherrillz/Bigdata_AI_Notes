{
  "nbformat": 4,
  "nbformat_minor": 0,
  "metadata": {
    "colab": {
      "provenance": [],
      "include_colab_link": true
    },
    "kernelspec": {
      "name": "python3",
      "display_name": "Python 3"
    },
    "language_info": {
      "name": "python"
    },
    "widgets": {
      "application/vnd.jupyter.widget-state+json": {
        "c38d4d1242234457860b5aeadb2b652d": {
          "model_module": "@jupyter-widgets/controls",
          "model_name": "HBoxModel",
          "model_module_version": "1.5.0",
          "state": {
            "_dom_classes": [],
            "_model_module": "@jupyter-widgets/controls",
            "_model_module_version": "1.5.0",
            "_model_name": "HBoxModel",
            "_view_count": null,
            "_view_module": "@jupyter-widgets/controls",
            "_view_module_version": "1.5.0",
            "_view_name": "HBoxView",
            "box_style": "",
            "children": [
              "IPY_MODEL_c97e4d71ed044b368bcf9a57434c597f",
              "IPY_MODEL_533f19fd440140a4a962192d0f7cc713",
              "IPY_MODEL_ef78c2ef3f2d4fefb84c448b76e5ef50"
            ],
            "layout": "IPY_MODEL_78e95140ea1d46c180196ab777756131"
          }
        },
        "c97e4d71ed044b368bcf9a57434c597f": {
          "model_module": "@jupyter-widgets/controls",
          "model_name": "HTMLModel",
          "model_module_version": "1.5.0",
          "state": {
            "_dom_classes": [],
            "_model_module": "@jupyter-widgets/controls",
            "_model_module_version": "1.5.0",
            "_model_name": "HTMLModel",
            "_view_count": null,
            "_view_module": "@jupyter-widgets/controls",
            "_view_module_version": "1.5.0",
            "_view_name": "HTMLView",
            "description": "",
            "description_tooltip": null,
            "layout": "IPY_MODEL_6d23ac3cf9754117b96fbad1b41bf7bc",
            "placeholder": "​",
            "style": "IPY_MODEL_3e9cc942b51c4c0f8ef09d6c23118bba",
            "value": ""
          }
        },
        "533f19fd440140a4a962192d0f7cc713": {
          "model_module": "@jupyter-widgets/controls",
          "model_name": "FloatProgressModel",
          "model_module_version": "1.5.0",
          "state": {
            "_dom_classes": [],
            "_model_module": "@jupyter-widgets/controls",
            "_model_module_version": "1.5.0",
            "_model_name": "FloatProgressModel",
            "_view_count": null,
            "_view_module": "@jupyter-widgets/controls",
            "_view_module_version": "1.5.0",
            "_view_name": "ProgressView",
            "bar_style": "success",
            "description": "",
            "description_tooltip": null,
            "layout": "IPY_MODEL_1b9a44e2b1f14ced94032818ea8401ca",
            "max": 26421880,
            "min": 0,
            "orientation": "horizontal",
            "style": "IPY_MODEL_bc5678bda59b445b9984dc12dd197db8",
            "value": 26421880
          }
        },
        "ef78c2ef3f2d4fefb84c448b76e5ef50": {
          "model_module": "@jupyter-widgets/controls",
          "model_name": "HTMLModel",
          "model_module_version": "1.5.0",
          "state": {
            "_dom_classes": [],
            "_model_module": "@jupyter-widgets/controls",
            "_model_module_version": "1.5.0",
            "_model_name": "HTMLModel",
            "_view_count": null,
            "_view_module": "@jupyter-widgets/controls",
            "_view_module_version": "1.5.0",
            "_view_name": "HTMLView",
            "description": "",
            "description_tooltip": null,
            "layout": "IPY_MODEL_a55a002e2d7a481cafd6daf43820c2fd",
            "placeholder": "​",
            "style": "IPY_MODEL_9b1a8520851b476b8f80100f722a5c68",
            "value": " 26422272/? [00:01&lt;00:00, 23095429.74it/s]"
          }
        },
        "78e95140ea1d46c180196ab777756131": {
          "model_module": "@jupyter-widgets/base",
          "model_name": "LayoutModel",
          "model_module_version": "1.2.0",
          "state": {
            "_model_module": "@jupyter-widgets/base",
            "_model_module_version": "1.2.0",
            "_model_name": "LayoutModel",
            "_view_count": null,
            "_view_module": "@jupyter-widgets/base",
            "_view_module_version": "1.2.0",
            "_view_name": "LayoutView",
            "align_content": null,
            "align_items": null,
            "align_self": null,
            "border": null,
            "bottom": null,
            "display": null,
            "flex": null,
            "flex_flow": null,
            "grid_area": null,
            "grid_auto_columns": null,
            "grid_auto_flow": null,
            "grid_auto_rows": null,
            "grid_column": null,
            "grid_gap": null,
            "grid_row": null,
            "grid_template_areas": null,
            "grid_template_columns": null,
            "grid_template_rows": null,
            "height": null,
            "justify_content": null,
            "justify_items": null,
            "left": null,
            "margin": null,
            "max_height": null,
            "max_width": null,
            "min_height": null,
            "min_width": null,
            "object_fit": null,
            "object_position": null,
            "order": null,
            "overflow": null,
            "overflow_x": null,
            "overflow_y": null,
            "padding": null,
            "right": null,
            "top": null,
            "visibility": null,
            "width": null
          }
        },
        "6d23ac3cf9754117b96fbad1b41bf7bc": {
          "model_module": "@jupyter-widgets/base",
          "model_name": "LayoutModel",
          "model_module_version": "1.2.0",
          "state": {
            "_model_module": "@jupyter-widgets/base",
            "_model_module_version": "1.2.0",
            "_model_name": "LayoutModel",
            "_view_count": null,
            "_view_module": "@jupyter-widgets/base",
            "_view_module_version": "1.2.0",
            "_view_name": "LayoutView",
            "align_content": null,
            "align_items": null,
            "align_self": null,
            "border": null,
            "bottom": null,
            "display": null,
            "flex": null,
            "flex_flow": null,
            "grid_area": null,
            "grid_auto_columns": null,
            "grid_auto_flow": null,
            "grid_auto_rows": null,
            "grid_column": null,
            "grid_gap": null,
            "grid_row": null,
            "grid_template_areas": null,
            "grid_template_columns": null,
            "grid_template_rows": null,
            "height": null,
            "justify_content": null,
            "justify_items": null,
            "left": null,
            "margin": null,
            "max_height": null,
            "max_width": null,
            "min_height": null,
            "min_width": null,
            "object_fit": null,
            "object_position": null,
            "order": null,
            "overflow": null,
            "overflow_x": null,
            "overflow_y": null,
            "padding": null,
            "right": null,
            "top": null,
            "visibility": null,
            "width": null
          }
        },
        "3e9cc942b51c4c0f8ef09d6c23118bba": {
          "model_module": "@jupyter-widgets/controls",
          "model_name": "DescriptionStyleModel",
          "model_module_version": "1.5.0",
          "state": {
            "_model_module": "@jupyter-widgets/controls",
            "_model_module_version": "1.5.0",
            "_model_name": "DescriptionStyleModel",
            "_view_count": null,
            "_view_module": "@jupyter-widgets/base",
            "_view_module_version": "1.2.0",
            "_view_name": "StyleView",
            "description_width": ""
          }
        },
        "1b9a44e2b1f14ced94032818ea8401ca": {
          "model_module": "@jupyter-widgets/base",
          "model_name": "LayoutModel",
          "model_module_version": "1.2.0",
          "state": {
            "_model_module": "@jupyter-widgets/base",
            "_model_module_version": "1.2.0",
            "_model_name": "LayoutModel",
            "_view_count": null,
            "_view_module": "@jupyter-widgets/base",
            "_view_module_version": "1.2.0",
            "_view_name": "LayoutView",
            "align_content": null,
            "align_items": null,
            "align_self": null,
            "border": null,
            "bottom": null,
            "display": null,
            "flex": null,
            "flex_flow": null,
            "grid_area": null,
            "grid_auto_columns": null,
            "grid_auto_flow": null,
            "grid_auto_rows": null,
            "grid_column": null,
            "grid_gap": null,
            "grid_row": null,
            "grid_template_areas": null,
            "grid_template_columns": null,
            "grid_template_rows": null,
            "height": null,
            "justify_content": null,
            "justify_items": null,
            "left": null,
            "margin": null,
            "max_height": null,
            "max_width": null,
            "min_height": null,
            "min_width": null,
            "object_fit": null,
            "object_position": null,
            "order": null,
            "overflow": null,
            "overflow_x": null,
            "overflow_y": null,
            "padding": null,
            "right": null,
            "top": null,
            "visibility": null,
            "width": null
          }
        },
        "bc5678bda59b445b9984dc12dd197db8": {
          "model_module": "@jupyter-widgets/controls",
          "model_name": "ProgressStyleModel",
          "model_module_version": "1.5.0",
          "state": {
            "_model_module": "@jupyter-widgets/controls",
            "_model_module_version": "1.5.0",
            "_model_name": "ProgressStyleModel",
            "_view_count": null,
            "_view_module": "@jupyter-widgets/base",
            "_view_module_version": "1.2.0",
            "_view_name": "StyleView",
            "bar_color": null,
            "description_width": ""
          }
        },
        "a55a002e2d7a481cafd6daf43820c2fd": {
          "model_module": "@jupyter-widgets/base",
          "model_name": "LayoutModel",
          "model_module_version": "1.2.0",
          "state": {
            "_model_module": "@jupyter-widgets/base",
            "_model_module_version": "1.2.0",
            "_model_name": "LayoutModel",
            "_view_count": null,
            "_view_module": "@jupyter-widgets/base",
            "_view_module_version": "1.2.0",
            "_view_name": "LayoutView",
            "align_content": null,
            "align_items": null,
            "align_self": null,
            "border": null,
            "bottom": null,
            "display": null,
            "flex": null,
            "flex_flow": null,
            "grid_area": null,
            "grid_auto_columns": null,
            "grid_auto_flow": null,
            "grid_auto_rows": null,
            "grid_column": null,
            "grid_gap": null,
            "grid_row": null,
            "grid_template_areas": null,
            "grid_template_columns": null,
            "grid_template_rows": null,
            "height": null,
            "justify_content": null,
            "justify_items": null,
            "left": null,
            "margin": null,
            "max_height": null,
            "max_width": null,
            "min_height": null,
            "min_width": null,
            "object_fit": null,
            "object_position": null,
            "order": null,
            "overflow": null,
            "overflow_x": null,
            "overflow_y": null,
            "padding": null,
            "right": null,
            "top": null,
            "visibility": null,
            "width": null
          }
        },
        "9b1a8520851b476b8f80100f722a5c68": {
          "model_module": "@jupyter-widgets/controls",
          "model_name": "DescriptionStyleModel",
          "model_module_version": "1.5.0",
          "state": {
            "_model_module": "@jupyter-widgets/controls",
            "_model_module_version": "1.5.0",
            "_model_name": "DescriptionStyleModel",
            "_view_count": null,
            "_view_module": "@jupyter-widgets/base",
            "_view_module_version": "1.2.0",
            "_view_name": "StyleView",
            "description_width": ""
          }
        },
        "80880dd83229468fb8b1ea39d98678cd": {
          "model_module": "@jupyter-widgets/controls",
          "model_name": "HBoxModel",
          "model_module_version": "1.5.0",
          "state": {
            "_dom_classes": [],
            "_model_module": "@jupyter-widgets/controls",
            "_model_module_version": "1.5.0",
            "_model_name": "HBoxModel",
            "_view_count": null,
            "_view_module": "@jupyter-widgets/controls",
            "_view_module_version": "1.5.0",
            "_view_name": "HBoxView",
            "box_style": "",
            "children": [
              "IPY_MODEL_bd60252155dc45bc82375dd271b68f2f",
              "IPY_MODEL_da2eb582e30f4b128b84ffd6661ab7a7",
              "IPY_MODEL_29e6e26759304898a277cd2e50e67689"
            ],
            "layout": "IPY_MODEL_783a194b5cc44bc09307d92dc8bf76af"
          }
        },
        "bd60252155dc45bc82375dd271b68f2f": {
          "model_module": "@jupyter-widgets/controls",
          "model_name": "HTMLModel",
          "model_module_version": "1.5.0",
          "state": {
            "_dom_classes": [],
            "_model_module": "@jupyter-widgets/controls",
            "_model_module_version": "1.5.0",
            "_model_name": "HTMLModel",
            "_view_count": null,
            "_view_module": "@jupyter-widgets/controls",
            "_view_module_version": "1.5.0",
            "_view_name": "HTMLView",
            "description": "",
            "description_tooltip": null,
            "layout": "IPY_MODEL_b6528c4f1c304a6a833a74f58b02a7a8",
            "placeholder": "​",
            "style": "IPY_MODEL_5047477ae1334d799ce7e37d8691bb34",
            "value": ""
          }
        },
        "da2eb582e30f4b128b84ffd6661ab7a7": {
          "model_module": "@jupyter-widgets/controls",
          "model_name": "FloatProgressModel",
          "model_module_version": "1.5.0",
          "state": {
            "_dom_classes": [],
            "_model_module": "@jupyter-widgets/controls",
            "_model_module_version": "1.5.0",
            "_model_name": "FloatProgressModel",
            "_view_count": null,
            "_view_module": "@jupyter-widgets/controls",
            "_view_module_version": "1.5.0",
            "_view_name": "ProgressView",
            "bar_style": "success",
            "description": "",
            "description_tooltip": null,
            "layout": "IPY_MODEL_368f5735fa994d93912db482bfa4b13b",
            "max": 29515,
            "min": 0,
            "orientation": "horizontal",
            "style": "IPY_MODEL_c2ce3cb653d7479cb7006fcf41b8e9c8",
            "value": 29515
          }
        },
        "29e6e26759304898a277cd2e50e67689": {
          "model_module": "@jupyter-widgets/controls",
          "model_name": "HTMLModel",
          "model_module_version": "1.5.0",
          "state": {
            "_dom_classes": [],
            "_model_module": "@jupyter-widgets/controls",
            "_model_module_version": "1.5.0",
            "_model_name": "HTMLModel",
            "_view_count": null,
            "_view_module": "@jupyter-widgets/controls",
            "_view_module_version": "1.5.0",
            "_view_name": "HTMLView",
            "description": "",
            "description_tooltip": null,
            "layout": "IPY_MODEL_b1282b9634fa4df4a58705084e58cb8d",
            "placeholder": "​",
            "style": "IPY_MODEL_517b95e461204a91ad1e049824f38455",
            "value": " 29696/? [00:00&lt;00:00, 123609.59it/s]"
          }
        },
        "783a194b5cc44bc09307d92dc8bf76af": {
          "model_module": "@jupyter-widgets/base",
          "model_name": "LayoutModel",
          "model_module_version": "1.2.0",
          "state": {
            "_model_module": "@jupyter-widgets/base",
            "_model_module_version": "1.2.0",
            "_model_name": "LayoutModel",
            "_view_count": null,
            "_view_module": "@jupyter-widgets/base",
            "_view_module_version": "1.2.0",
            "_view_name": "LayoutView",
            "align_content": null,
            "align_items": null,
            "align_self": null,
            "border": null,
            "bottom": null,
            "display": null,
            "flex": null,
            "flex_flow": null,
            "grid_area": null,
            "grid_auto_columns": null,
            "grid_auto_flow": null,
            "grid_auto_rows": null,
            "grid_column": null,
            "grid_gap": null,
            "grid_row": null,
            "grid_template_areas": null,
            "grid_template_columns": null,
            "grid_template_rows": null,
            "height": null,
            "justify_content": null,
            "justify_items": null,
            "left": null,
            "margin": null,
            "max_height": null,
            "max_width": null,
            "min_height": null,
            "min_width": null,
            "object_fit": null,
            "object_position": null,
            "order": null,
            "overflow": null,
            "overflow_x": null,
            "overflow_y": null,
            "padding": null,
            "right": null,
            "top": null,
            "visibility": null,
            "width": null
          }
        },
        "b6528c4f1c304a6a833a74f58b02a7a8": {
          "model_module": "@jupyter-widgets/base",
          "model_name": "LayoutModel",
          "model_module_version": "1.2.0",
          "state": {
            "_model_module": "@jupyter-widgets/base",
            "_model_module_version": "1.2.0",
            "_model_name": "LayoutModel",
            "_view_count": null,
            "_view_module": "@jupyter-widgets/base",
            "_view_module_version": "1.2.0",
            "_view_name": "LayoutView",
            "align_content": null,
            "align_items": null,
            "align_self": null,
            "border": null,
            "bottom": null,
            "display": null,
            "flex": null,
            "flex_flow": null,
            "grid_area": null,
            "grid_auto_columns": null,
            "grid_auto_flow": null,
            "grid_auto_rows": null,
            "grid_column": null,
            "grid_gap": null,
            "grid_row": null,
            "grid_template_areas": null,
            "grid_template_columns": null,
            "grid_template_rows": null,
            "height": null,
            "justify_content": null,
            "justify_items": null,
            "left": null,
            "margin": null,
            "max_height": null,
            "max_width": null,
            "min_height": null,
            "min_width": null,
            "object_fit": null,
            "object_position": null,
            "order": null,
            "overflow": null,
            "overflow_x": null,
            "overflow_y": null,
            "padding": null,
            "right": null,
            "top": null,
            "visibility": null,
            "width": null
          }
        },
        "5047477ae1334d799ce7e37d8691bb34": {
          "model_module": "@jupyter-widgets/controls",
          "model_name": "DescriptionStyleModel",
          "model_module_version": "1.5.0",
          "state": {
            "_model_module": "@jupyter-widgets/controls",
            "_model_module_version": "1.5.0",
            "_model_name": "DescriptionStyleModel",
            "_view_count": null,
            "_view_module": "@jupyter-widgets/base",
            "_view_module_version": "1.2.0",
            "_view_name": "StyleView",
            "description_width": ""
          }
        },
        "368f5735fa994d93912db482bfa4b13b": {
          "model_module": "@jupyter-widgets/base",
          "model_name": "LayoutModel",
          "model_module_version": "1.2.0",
          "state": {
            "_model_module": "@jupyter-widgets/base",
            "_model_module_version": "1.2.0",
            "_model_name": "LayoutModel",
            "_view_count": null,
            "_view_module": "@jupyter-widgets/base",
            "_view_module_version": "1.2.0",
            "_view_name": "LayoutView",
            "align_content": null,
            "align_items": null,
            "align_self": null,
            "border": null,
            "bottom": null,
            "display": null,
            "flex": null,
            "flex_flow": null,
            "grid_area": null,
            "grid_auto_columns": null,
            "grid_auto_flow": null,
            "grid_auto_rows": null,
            "grid_column": null,
            "grid_gap": null,
            "grid_row": null,
            "grid_template_areas": null,
            "grid_template_columns": null,
            "grid_template_rows": null,
            "height": null,
            "justify_content": null,
            "justify_items": null,
            "left": null,
            "margin": null,
            "max_height": null,
            "max_width": null,
            "min_height": null,
            "min_width": null,
            "object_fit": null,
            "object_position": null,
            "order": null,
            "overflow": null,
            "overflow_x": null,
            "overflow_y": null,
            "padding": null,
            "right": null,
            "top": null,
            "visibility": null,
            "width": null
          }
        },
        "c2ce3cb653d7479cb7006fcf41b8e9c8": {
          "model_module": "@jupyter-widgets/controls",
          "model_name": "ProgressStyleModel",
          "model_module_version": "1.5.0",
          "state": {
            "_model_module": "@jupyter-widgets/controls",
            "_model_module_version": "1.5.0",
            "_model_name": "ProgressStyleModel",
            "_view_count": null,
            "_view_module": "@jupyter-widgets/base",
            "_view_module_version": "1.2.0",
            "_view_name": "StyleView",
            "bar_color": null,
            "description_width": ""
          }
        },
        "b1282b9634fa4df4a58705084e58cb8d": {
          "model_module": "@jupyter-widgets/base",
          "model_name": "LayoutModel",
          "model_module_version": "1.2.0",
          "state": {
            "_model_module": "@jupyter-widgets/base",
            "_model_module_version": "1.2.0",
            "_model_name": "LayoutModel",
            "_view_count": null,
            "_view_module": "@jupyter-widgets/base",
            "_view_module_version": "1.2.0",
            "_view_name": "LayoutView",
            "align_content": null,
            "align_items": null,
            "align_self": null,
            "border": null,
            "bottom": null,
            "display": null,
            "flex": null,
            "flex_flow": null,
            "grid_area": null,
            "grid_auto_columns": null,
            "grid_auto_flow": null,
            "grid_auto_rows": null,
            "grid_column": null,
            "grid_gap": null,
            "grid_row": null,
            "grid_template_areas": null,
            "grid_template_columns": null,
            "grid_template_rows": null,
            "height": null,
            "justify_content": null,
            "justify_items": null,
            "left": null,
            "margin": null,
            "max_height": null,
            "max_width": null,
            "min_height": null,
            "min_width": null,
            "object_fit": null,
            "object_position": null,
            "order": null,
            "overflow": null,
            "overflow_x": null,
            "overflow_y": null,
            "padding": null,
            "right": null,
            "top": null,
            "visibility": null,
            "width": null
          }
        },
        "517b95e461204a91ad1e049824f38455": {
          "model_module": "@jupyter-widgets/controls",
          "model_name": "DescriptionStyleModel",
          "model_module_version": "1.5.0",
          "state": {
            "_model_module": "@jupyter-widgets/controls",
            "_model_module_version": "1.5.0",
            "_model_name": "DescriptionStyleModel",
            "_view_count": null,
            "_view_module": "@jupyter-widgets/base",
            "_view_module_version": "1.2.0",
            "_view_name": "StyleView",
            "description_width": ""
          }
        },
        "0e0af06268974f4fb1c867b36aa776b2": {
          "model_module": "@jupyter-widgets/controls",
          "model_name": "HBoxModel",
          "model_module_version": "1.5.0",
          "state": {
            "_dom_classes": [],
            "_model_module": "@jupyter-widgets/controls",
            "_model_module_version": "1.5.0",
            "_model_name": "HBoxModel",
            "_view_count": null,
            "_view_module": "@jupyter-widgets/controls",
            "_view_module_version": "1.5.0",
            "_view_name": "HBoxView",
            "box_style": "",
            "children": [
              "IPY_MODEL_0340486e2fc4477b8137c3b967d914ba",
              "IPY_MODEL_bb839553e3d94d4c8a21b5ba4d7d8963",
              "IPY_MODEL_ec8564e0f029483a9696ab94534f60fd"
            ],
            "layout": "IPY_MODEL_f4114bbf2d6a416890f2c84f7f43ff8d"
          }
        },
        "0340486e2fc4477b8137c3b967d914ba": {
          "model_module": "@jupyter-widgets/controls",
          "model_name": "HTMLModel",
          "model_module_version": "1.5.0",
          "state": {
            "_dom_classes": [],
            "_model_module": "@jupyter-widgets/controls",
            "_model_module_version": "1.5.0",
            "_model_name": "HTMLModel",
            "_view_count": null,
            "_view_module": "@jupyter-widgets/controls",
            "_view_module_version": "1.5.0",
            "_view_name": "HTMLView",
            "description": "",
            "description_tooltip": null,
            "layout": "IPY_MODEL_27a924025b6846249edd843a2f4d0bfb",
            "placeholder": "​",
            "style": "IPY_MODEL_b09de5a759a54061bd3ecd3bc0ff2551",
            "value": ""
          }
        },
        "bb839553e3d94d4c8a21b5ba4d7d8963": {
          "model_module": "@jupyter-widgets/controls",
          "model_name": "FloatProgressModel",
          "model_module_version": "1.5.0",
          "state": {
            "_dom_classes": [],
            "_model_module": "@jupyter-widgets/controls",
            "_model_module_version": "1.5.0",
            "_model_name": "FloatProgressModel",
            "_view_count": null,
            "_view_module": "@jupyter-widgets/controls",
            "_view_module_version": "1.5.0",
            "_view_name": "ProgressView",
            "bar_style": "success",
            "description": "",
            "description_tooltip": null,
            "layout": "IPY_MODEL_ab23293a4d50486dbce092e2eb833060",
            "max": 4422102,
            "min": 0,
            "orientation": "horizontal",
            "style": "IPY_MODEL_4bdee5498580446795f881f62988303b",
            "value": 4422102
          }
        },
        "ec8564e0f029483a9696ab94534f60fd": {
          "model_module": "@jupyter-widgets/controls",
          "model_name": "HTMLModel",
          "model_module_version": "1.5.0",
          "state": {
            "_dom_classes": [],
            "_model_module": "@jupyter-widgets/controls",
            "_model_module_version": "1.5.0",
            "_model_name": "HTMLModel",
            "_view_count": null,
            "_view_module": "@jupyter-widgets/controls",
            "_view_module_version": "1.5.0",
            "_view_name": "HTMLView",
            "description": "",
            "description_tooltip": null,
            "layout": "IPY_MODEL_82c6c170c0ec483f8b230d8cd9f52d77",
            "placeholder": "​",
            "style": "IPY_MODEL_72f35f0ba0e949f8b89fb9935310599e",
            "value": " 4422656/? [00:00&lt;00:00, 8609961.07it/s]"
          }
        },
        "f4114bbf2d6a416890f2c84f7f43ff8d": {
          "model_module": "@jupyter-widgets/base",
          "model_name": "LayoutModel",
          "model_module_version": "1.2.0",
          "state": {
            "_model_module": "@jupyter-widgets/base",
            "_model_module_version": "1.2.0",
            "_model_name": "LayoutModel",
            "_view_count": null,
            "_view_module": "@jupyter-widgets/base",
            "_view_module_version": "1.2.0",
            "_view_name": "LayoutView",
            "align_content": null,
            "align_items": null,
            "align_self": null,
            "border": null,
            "bottom": null,
            "display": null,
            "flex": null,
            "flex_flow": null,
            "grid_area": null,
            "grid_auto_columns": null,
            "grid_auto_flow": null,
            "grid_auto_rows": null,
            "grid_column": null,
            "grid_gap": null,
            "grid_row": null,
            "grid_template_areas": null,
            "grid_template_columns": null,
            "grid_template_rows": null,
            "height": null,
            "justify_content": null,
            "justify_items": null,
            "left": null,
            "margin": null,
            "max_height": null,
            "max_width": null,
            "min_height": null,
            "min_width": null,
            "object_fit": null,
            "object_position": null,
            "order": null,
            "overflow": null,
            "overflow_x": null,
            "overflow_y": null,
            "padding": null,
            "right": null,
            "top": null,
            "visibility": null,
            "width": null
          }
        },
        "27a924025b6846249edd843a2f4d0bfb": {
          "model_module": "@jupyter-widgets/base",
          "model_name": "LayoutModel",
          "model_module_version": "1.2.0",
          "state": {
            "_model_module": "@jupyter-widgets/base",
            "_model_module_version": "1.2.0",
            "_model_name": "LayoutModel",
            "_view_count": null,
            "_view_module": "@jupyter-widgets/base",
            "_view_module_version": "1.2.0",
            "_view_name": "LayoutView",
            "align_content": null,
            "align_items": null,
            "align_self": null,
            "border": null,
            "bottom": null,
            "display": null,
            "flex": null,
            "flex_flow": null,
            "grid_area": null,
            "grid_auto_columns": null,
            "grid_auto_flow": null,
            "grid_auto_rows": null,
            "grid_column": null,
            "grid_gap": null,
            "grid_row": null,
            "grid_template_areas": null,
            "grid_template_columns": null,
            "grid_template_rows": null,
            "height": null,
            "justify_content": null,
            "justify_items": null,
            "left": null,
            "margin": null,
            "max_height": null,
            "max_width": null,
            "min_height": null,
            "min_width": null,
            "object_fit": null,
            "object_position": null,
            "order": null,
            "overflow": null,
            "overflow_x": null,
            "overflow_y": null,
            "padding": null,
            "right": null,
            "top": null,
            "visibility": null,
            "width": null
          }
        },
        "b09de5a759a54061bd3ecd3bc0ff2551": {
          "model_module": "@jupyter-widgets/controls",
          "model_name": "DescriptionStyleModel",
          "model_module_version": "1.5.0",
          "state": {
            "_model_module": "@jupyter-widgets/controls",
            "_model_module_version": "1.5.0",
            "_model_name": "DescriptionStyleModel",
            "_view_count": null,
            "_view_module": "@jupyter-widgets/base",
            "_view_module_version": "1.2.0",
            "_view_name": "StyleView",
            "description_width": ""
          }
        },
        "ab23293a4d50486dbce092e2eb833060": {
          "model_module": "@jupyter-widgets/base",
          "model_name": "LayoutModel",
          "model_module_version": "1.2.0",
          "state": {
            "_model_module": "@jupyter-widgets/base",
            "_model_module_version": "1.2.0",
            "_model_name": "LayoutModel",
            "_view_count": null,
            "_view_module": "@jupyter-widgets/base",
            "_view_module_version": "1.2.0",
            "_view_name": "LayoutView",
            "align_content": null,
            "align_items": null,
            "align_self": null,
            "border": null,
            "bottom": null,
            "display": null,
            "flex": null,
            "flex_flow": null,
            "grid_area": null,
            "grid_auto_columns": null,
            "grid_auto_flow": null,
            "grid_auto_rows": null,
            "grid_column": null,
            "grid_gap": null,
            "grid_row": null,
            "grid_template_areas": null,
            "grid_template_columns": null,
            "grid_template_rows": null,
            "height": null,
            "justify_content": null,
            "justify_items": null,
            "left": null,
            "margin": null,
            "max_height": null,
            "max_width": null,
            "min_height": null,
            "min_width": null,
            "object_fit": null,
            "object_position": null,
            "order": null,
            "overflow": null,
            "overflow_x": null,
            "overflow_y": null,
            "padding": null,
            "right": null,
            "top": null,
            "visibility": null,
            "width": null
          }
        },
        "4bdee5498580446795f881f62988303b": {
          "model_module": "@jupyter-widgets/controls",
          "model_name": "ProgressStyleModel",
          "model_module_version": "1.5.0",
          "state": {
            "_model_module": "@jupyter-widgets/controls",
            "_model_module_version": "1.5.0",
            "_model_name": "ProgressStyleModel",
            "_view_count": null,
            "_view_module": "@jupyter-widgets/base",
            "_view_module_version": "1.2.0",
            "_view_name": "StyleView",
            "bar_color": null,
            "description_width": ""
          }
        },
        "82c6c170c0ec483f8b230d8cd9f52d77": {
          "model_module": "@jupyter-widgets/base",
          "model_name": "LayoutModel",
          "model_module_version": "1.2.0",
          "state": {
            "_model_module": "@jupyter-widgets/base",
            "_model_module_version": "1.2.0",
            "_model_name": "LayoutModel",
            "_view_count": null,
            "_view_module": "@jupyter-widgets/base",
            "_view_module_version": "1.2.0",
            "_view_name": "LayoutView",
            "align_content": null,
            "align_items": null,
            "align_self": null,
            "border": null,
            "bottom": null,
            "display": null,
            "flex": null,
            "flex_flow": null,
            "grid_area": null,
            "grid_auto_columns": null,
            "grid_auto_flow": null,
            "grid_auto_rows": null,
            "grid_column": null,
            "grid_gap": null,
            "grid_row": null,
            "grid_template_areas": null,
            "grid_template_columns": null,
            "grid_template_rows": null,
            "height": null,
            "justify_content": null,
            "justify_items": null,
            "left": null,
            "margin": null,
            "max_height": null,
            "max_width": null,
            "min_height": null,
            "min_width": null,
            "object_fit": null,
            "object_position": null,
            "order": null,
            "overflow": null,
            "overflow_x": null,
            "overflow_y": null,
            "padding": null,
            "right": null,
            "top": null,
            "visibility": null,
            "width": null
          }
        },
        "72f35f0ba0e949f8b89fb9935310599e": {
          "model_module": "@jupyter-widgets/controls",
          "model_name": "DescriptionStyleModel",
          "model_module_version": "1.5.0",
          "state": {
            "_model_module": "@jupyter-widgets/controls",
            "_model_module_version": "1.5.0",
            "_model_name": "DescriptionStyleModel",
            "_view_count": null,
            "_view_module": "@jupyter-widgets/base",
            "_view_module_version": "1.2.0",
            "_view_name": "StyleView",
            "description_width": ""
          }
        },
        "80aca9d9ef034d8bba3d31ab595c978e": {
          "model_module": "@jupyter-widgets/controls",
          "model_name": "HBoxModel",
          "model_module_version": "1.5.0",
          "state": {
            "_dom_classes": [],
            "_model_module": "@jupyter-widgets/controls",
            "_model_module_version": "1.5.0",
            "_model_name": "HBoxModel",
            "_view_count": null,
            "_view_module": "@jupyter-widgets/controls",
            "_view_module_version": "1.5.0",
            "_view_name": "HBoxView",
            "box_style": "",
            "children": [
              "IPY_MODEL_e6801db06a29446594f968adab6a3f18",
              "IPY_MODEL_c8e3ea6fddd846fb9415c71b2252fb82",
              "IPY_MODEL_28308c8752034701969f097a398eeea6"
            ],
            "layout": "IPY_MODEL_5a1ac11b93b94cbab57996af0ea750c0"
          }
        },
        "e6801db06a29446594f968adab6a3f18": {
          "model_module": "@jupyter-widgets/controls",
          "model_name": "HTMLModel",
          "model_module_version": "1.5.0",
          "state": {
            "_dom_classes": [],
            "_model_module": "@jupyter-widgets/controls",
            "_model_module_version": "1.5.0",
            "_model_name": "HTMLModel",
            "_view_count": null,
            "_view_module": "@jupyter-widgets/controls",
            "_view_module_version": "1.5.0",
            "_view_name": "HTMLView",
            "description": "",
            "description_tooltip": null,
            "layout": "IPY_MODEL_f21ef0bdd770474fb59534d89dc2b0c6",
            "placeholder": "​",
            "style": "IPY_MODEL_677b0a075fb14f2a854554fd4c8a9207",
            "value": ""
          }
        },
        "c8e3ea6fddd846fb9415c71b2252fb82": {
          "model_module": "@jupyter-widgets/controls",
          "model_name": "FloatProgressModel",
          "model_module_version": "1.5.0",
          "state": {
            "_dom_classes": [],
            "_model_module": "@jupyter-widgets/controls",
            "_model_module_version": "1.5.0",
            "_model_name": "FloatProgressModel",
            "_view_count": null,
            "_view_module": "@jupyter-widgets/controls",
            "_view_module_version": "1.5.0",
            "_view_name": "ProgressView",
            "bar_style": "success",
            "description": "",
            "description_tooltip": null,
            "layout": "IPY_MODEL_25049440dad7462ca3f18ffbfad4c1ff",
            "max": 5148,
            "min": 0,
            "orientation": "horizontal",
            "style": "IPY_MODEL_6761109eacd34c6db785b40d916da55a",
            "value": 5148
          }
        },
        "28308c8752034701969f097a398eeea6": {
          "model_module": "@jupyter-widgets/controls",
          "model_name": "HTMLModel",
          "model_module_version": "1.5.0",
          "state": {
            "_dom_classes": [],
            "_model_module": "@jupyter-widgets/controls",
            "_model_module_version": "1.5.0",
            "_model_name": "HTMLModel",
            "_view_count": null,
            "_view_module": "@jupyter-widgets/controls",
            "_view_module_version": "1.5.0",
            "_view_name": "HTMLView",
            "description": "",
            "description_tooltip": null,
            "layout": "IPY_MODEL_04f0d668d4284eeaacbd55cfed66ce04",
            "placeholder": "​",
            "style": "IPY_MODEL_8d145429d72049728f27995417d73d77",
            "value": " 6144/? [00:00&lt;00:00, 139362.53it/s]"
          }
        },
        "5a1ac11b93b94cbab57996af0ea750c0": {
          "model_module": "@jupyter-widgets/base",
          "model_name": "LayoutModel",
          "model_module_version": "1.2.0",
          "state": {
            "_model_module": "@jupyter-widgets/base",
            "_model_module_version": "1.2.0",
            "_model_name": "LayoutModel",
            "_view_count": null,
            "_view_module": "@jupyter-widgets/base",
            "_view_module_version": "1.2.0",
            "_view_name": "LayoutView",
            "align_content": null,
            "align_items": null,
            "align_self": null,
            "border": null,
            "bottom": null,
            "display": null,
            "flex": null,
            "flex_flow": null,
            "grid_area": null,
            "grid_auto_columns": null,
            "grid_auto_flow": null,
            "grid_auto_rows": null,
            "grid_column": null,
            "grid_gap": null,
            "grid_row": null,
            "grid_template_areas": null,
            "grid_template_columns": null,
            "grid_template_rows": null,
            "height": null,
            "justify_content": null,
            "justify_items": null,
            "left": null,
            "margin": null,
            "max_height": null,
            "max_width": null,
            "min_height": null,
            "min_width": null,
            "object_fit": null,
            "object_position": null,
            "order": null,
            "overflow": null,
            "overflow_x": null,
            "overflow_y": null,
            "padding": null,
            "right": null,
            "top": null,
            "visibility": null,
            "width": null
          }
        },
        "f21ef0bdd770474fb59534d89dc2b0c6": {
          "model_module": "@jupyter-widgets/base",
          "model_name": "LayoutModel",
          "model_module_version": "1.2.0",
          "state": {
            "_model_module": "@jupyter-widgets/base",
            "_model_module_version": "1.2.0",
            "_model_name": "LayoutModel",
            "_view_count": null,
            "_view_module": "@jupyter-widgets/base",
            "_view_module_version": "1.2.0",
            "_view_name": "LayoutView",
            "align_content": null,
            "align_items": null,
            "align_self": null,
            "border": null,
            "bottom": null,
            "display": null,
            "flex": null,
            "flex_flow": null,
            "grid_area": null,
            "grid_auto_columns": null,
            "grid_auto_flow": null,
            "grid_auto_rows": null,
            "grid_column": null,
            "grid_gap": null,
            "grid_row": null,
            "grid_template_areas": null,
            "grid_template_columns": null,
            "grid_template_rows": null,
            "height": null,
            "justify_content": null,
            "justify_items": null,
            "left": null,
            "margin": null,
            "max_height": null,
            "max_width": null,
            "min_height": null,
            "min_width": null,
            "object_fit": null,
            "object_position": null,
            "order": null,
            "overflow": null,
            "overflow_x": null,
            "overflow_y": null,
            "padding": null,
            "right": null,
            "top": null,
            "visibility": null,
            "width": null
          }
        },
        "677b0a075fb14f2a854554fd4c8a9207": {
          "model_module": "@jupyter-widgets/controls",
          "model_name": "DescriptionStyleModel",
          "model_module_version": "1.5.0",
          "state": {
            "_model_module": "@jupyter-widgets/controls",
            "_model_module_version": "1.5.0",
            "_model_name": "DescriptionStyleModel",
            "_view_count": null,
            "_view_module": "@jupyter-widgets/base",
            "_view_module_version": "1.2.0",
            "_view_name": "StyleView",
            "description_width": ""
          }
        },
        "25049440dad7462ca3f18ffbfad4c1ff": {
          "model_module": "@jupyter-widgets/base",
          "model_name": "LayoutModel",
          "model_module_version": "1.2.0",
          "state": {
            "_model_module": "@jupyter-widgets/base",
            "_model_module_version": "1.2.0",
            "_model_name": "LayoutModel",
            "_view_count": null,
            "_view_module": "@jupyter-widgets/base",
            "_view_module_version": "1.2.0",
            "_view_name": "LayoutView",
            "align_content": null,
            "align_items": null,
            "align_self": null,
            "border": null,
            "bottom": null,
            "display": null,
            "flex": null,
            "flex_flow": null,
            "grid_area": null,
            "grid_auto_columns": null,
            "grid_auto_flow": null,
            "grid_auto_rows": null,
            "grid_column": null,
            "grid_gap": null,
            "grid_row": null,
            "grid_template_areas": null,
            "grid_template_columns": null,
            "grid_template_rows": null,
            "height": null,
            "justify_content": null,
            "justify_items": null,
            "left": null,
            "margin": null,
            "max_height": null,
            "max_width": null,
            "min_height": null,
            "min_width": null,
            "object_fit": null,
            "object_position": null,
            "order": null,
            "overflow": null,
            "overflow_x": null,
            "overflow_y": null,
            "padding": null,
            "right": null,
            "top": null,
            "visibility": null,
            "width": null
          }
        },
        "6761109eacd34c6db785b40d916da55a": {
          "model_module": "@jupyter-widgets/controls",
          "model_name": "ProgressStyleModel",
          "model_module_version": "1.5.0",
          "state": {
            "_model_module": "@jupyter-widgets/controls",
            "_model_module_version": "1.5.0",
            "_model_name": "ProgressStyleModel",
            "_view_count": null,
            "_view_module": "@jupyter-widgets/base",
            "_view_module_version": "1.2.0",
            "_view_name": "StyleView",
            "bar_color": null,
            "description_width": ""
          }
        },
        "04f0d668d4284eeaacbd55cfed66ce04": {
          "model_module": "@jupyter-widgets/base",
          "model_name": "LayoutModel",
          "model_module_version": "1.2.0",
          "state": {
            "_model_module": "@jupyter-widgets/base",
            "_model_module_version": "1.2.0",
            "_model_name": "LayoutModel",
            "_view_count": null,
            "_view_module": "@jupyter-widgets/base",
            "_view_module_version": "1.2.0",
            "_view_name": "LayoutView",
            "align_content": null,
            "align_items": null,
            "align_self": null,
            "border": null,
            "bottom": null,
            "display": null,
            "flex": null,
            "flex_flow": null,
            "grid_area": null,
            "grid_auto_columns": null,
            "grid_auto_flow": null,
            "grid_auto_rows": null,
            "grid_column": null,
            "grid_gap": null,
            "grid_row": null,
            "grid_template_areas": null,
            "grid_template_columns": null,
            "grid_template_rows": null,
            "height": null,
            "justify_content": null,
            "justify_items": null,
            "left": null,
            "margin": null,
            "max_height": null,
            "max_width": null,
            "min_height": null,
            "min_width": null,
            "object_fit": null,
            "object_position": null,
            "order": null,
            "overflow": null,
            "overflow_x": null,
            "overflow_y": null,
            "padding": null,
            "right": null,
            "top": null,
            "visibility": null,
            "width": null
          }
        },
        "8d145429d72049728f27995417d73d77": {
          "model_module": "@jupyter-widgets/controls",
          "model_name": "DescriptionStyleModel",
          "model_module_version": "1.5.0",
          "state": {
            "_model_module": "@jupyter-widgets/controls",
            "_model_module_version": "1.5.0",
            "_model_name": "DescriptionStyleModel",
            "_view_count": null,
            "_view_module": "@jupyter-widgets/base",
            "_view_module_version": "1.2.0",
            "_view_name": "StyleView",
            "description_width": ""
          }
        },
        "31d3e0148685473d9df20ebe3f2d5361": {
          "model_module": "@jupyter-widgets/controls",
          "model_name": "VBoxModel",
          "model_module_version": "1.5.0",
          "state": {
            "_dom_classes": [
              "widget-interact"
            ],
            "_model_module": "@jupyter-widgets/controls",
            "_model_module_version": "1.5.0",
            "_model_name": "VBoxModel",
            "_view_count": null,
            "_view_module": "@jupyter-widgets/controls",
            "_view_module_version": "1.5.0",
            "_view_name": "VBoxView",
            "box_style": "",
            "children": [
              "IPY_MODEL_0c53a010737046ab821dae5a49d70a23",
              "IPY_MODEL_be5b749fbcbb42ae9445693156a916ff"
            ],
            "layout": "IPY_MODEL_4fbf72d9ffac4f5288afeb583c56031e"
          }
        },
        "0c53a010737046ab821dae5a49d70a23": {
          "model_module": "@jupyter-widgets/controls",
          "model_name": "IntSliderModel",
          "model_module_version": "1.5.0",
          "state": {
            "_dom_classes": [],
            "_model_module": "@jupyter-widgets/controls",
            "_model_module_version": "1.5.0",
            "_model_name": "IntSliderModel",
            "_view_count": null,
            "_view_module": "@jupyter-widgets/controls",
            "_view_module_version": "1.5.0",
            "_view_name": "IntSliderView",
            "continuous_update": true,
            "description": "Image index",
            "description_tooltip": null,
            "disabled": false,
            "layout": "IPY_MODEL_b0ab6ff2a56846d3bc93ae52e0095c94",
            "max": 9999,
            "min": 0,
            "orientation": "horizontal",
            "readout": true,
            "readout_format": "d",
            "step": 1,
            "style": "IPY_MODEL_fd80e36bae3e413a8a27cdc88bb424de",
            "value": 9999
          }
        },
        "be5b749fbcbb42ae9445693156a916ff": {
          "model_module": "@jupyter-widgets/output",
          "model_name": "OutputModel",
          "model_module_version": "1.0.0",
          "state": {
            "_dom_classes": [],
            "_model_module": "@jupyter-widgets/output",
            "_model_module_version": "1.0.0",
            "_model_name": "OutputModel",
            "_view_count": null,
            "_view_module": "@jupyter-widgets/output",
            "_view_module_version": "1.0.0",
            "_view_name": "OutputView",
            "layout": "IPY_MODEL_4129fe6248f34d3d932187ba9399d95a",
            "msg_id": "",
            "outputs": [
              {
                "output_type": "display_data",
                "data": {
                  "text/plain": "<Figure size 864x432 with 2 Axes>",
                  "image/png": "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\n"
                },
                "metadata": {
                  "needs_background": "light"
                }
              }
            ]
          }
        },
        "4fbf72d9ffac4f5288afeb583c56031e": {
          "model_module": "@jupyter-widgets/base",
          "model_name": "LayoutModel",
          "model_module_version": "1.2.0",
          "state": {
            "_model_module": "@jupyter-widgets/base",
            "_model_module_version": "1.2.0",
            "_model_name": "LayoutModel",
            "_view_count": null,
            "_view_module": "@jupyter-widgets/base",
            "_view_module_version": "1.2.0",
            "_view_name": "LayoutView",
            "align_content": null,
            "align_items": null,
            "align_self": null,
            "border": null,
            "bottom": null,
            "display": null,
            "flex": null,
            "flex_flow": null,
            "grid_area": null,
            "grid_auto_columns": null,
            "grid_auto_flow": null,
            "grid_auto_rows": null,
            "grid_column": null,
            "grid_gap": null,
            "grid_row": null,
            "grid_template_areas": null,
            "grid_template_columns": null,
            "grid_template_rows": null,
            "height": null,
            "justify_content": null,
            "justify_items": null,
            "left": null,
            "margin": null,
            "max_height": null,
            "max_width": null,
            "min_height": null,
            "min_width": null,
            "object_fit": null,
            "object_position": null,
            "order": null,
            "overflow": null,
            "overflow_x": null,
            "overflow_y": null,
            "padding": null,
            "right": null,
            "top": null,
            "visibility": null,
            "width": null
          }
        },
        "b0ab6ff2a56846d3bc93ae52e0095c94": {
          "model_module": "@jupyter-widgets/base",
          "model_name": "LayoutModel",
          "model_module_version": "1.2.0",
          "state": {
            "_model_module": "@jupyter-widgets/base",
            "_model_module_version": "1.2.0",
            "_model_name": "LayoutModel",
            "_view_count": null,
            "_view_module": "@jupyter-widgets/base",
            "_view_module_version": "1.2.0",
            "_view_name": "LayoutView",
            "align_content": null,
            "align_items": null,
            "align_self": null,
            "border": null,
            "bottom": null,
            "display": null,
            "flex": null,
            "flex_flow": null,
            "grid_area": null,
            "grid_auto_columns": null,
            "grid_auto_flow": null,
            "grid_auto_rows": null,
            "grid_column": null,
            "grid_gap": null,
            "grid_row": null,
            "grid_template_areas": null,
            "grid_template_columns": null,
            "grid_template_rows": null,
            "height": null,
            "justify_content": null,
            "justify_items": null,
            "left": null,
            "margin": null,
            "max_height": null,
            "max_width": null,
            "min_height": null,
            "min_width": null,
            "object_fit": null,
            "object_position": null,
            "order": null,
            "overflow": null,
            "overflow_x": null,
            "overflow_y": null,
            "padding": null,
            "right": null,
            "top": null,
            "visibility": null,
            "width": "100%"
          }
        },
        "fd80e36bae3e413a8a27cdc88bb424de": {
          "model_module": "@jupyter-widgets/controls",
          "model_name": "SliderStyleModel",
          "model_module_version": "1.5.0",
          "state": {
            "_model_module": "@jupyter-widgets/controls",
            "_model_module_version": "1.5.0",
            "_model_name": "SliderStyleModel",
            "_view_count": null,
            "_view_module": "@jupyter-widgets/base",
            "_view_module_version": "1.2.0",
            "_view_name": "StyleView",
            "description_width": "",
            "handle_color": null
          }
        },
        "4129fe6248f34d3d932187ba9399d95a": {
          "model_module": "@jupyter-widgets/base",
          "model_name": "LayoutModel",
          "model_module_version": "1.2.0",
          "state": {
            "_model_module": "@jupyter-widgets/base",
            "_model_module_version": "1.2.0",
            "_model_name": "LayoutModel",
            "_view_count": null,
            "_view_module": "@jupyter-widgets/base",
            "_view_module_version": "1.2.0",
            "_view_name": "LayoutView",
            "align_content": null,
            "align_items": null,
            "align_self": null,
            "border": null,
            "bottom": null,
            "display": null,
            "flex": null,
            "flex_flow": null,
            "grid_area": null,
            "grid_auto_columns": null,
            "grid_auto_flow": null,
            "grid_auto_rows": null,
            "grid_column": null,
            "grid_gap": null,
            "grid_row": null,
            "grid_template_areas": null,
            "grid_template_columns": null,
            "grid_template_rows": null,
            "height": null,
            "justify_content": null,
            "justify_items": null,
            "left": null,
            "margin": null,
            "max_height": null,
            "max_width": null,
            "min_height": null,
            "min_width": null,
            "object_fit": null,
            "object_position": null,
            "order": null,
            "overflow": null,
            "overflow_x": null,
            "overflow_y": null,
            "padding": null,
            "right": null,
            "top": null,
            "visibility": null,
            "width": null
          }
        }
      }
    }
  },
  "cells": [
    {
      "cell_type": "markdown",
      "metadata": {
        "id": "view-in-github",
        "colab_type": "text"
      },
      "source": [
        "<a href=\"https://colab.research.google.com/github/sherrillz/Bigdata_AI_Notes/blob/main/Predict%20Dress%20Types%20-%20PyTorch.ipynb\" target=\"_parent\"><img src=\"https://colab.research.google.com/assets/colab-badge.svg\" alt=\"Open In Colab\"/></a>"
      ]
    },
    {
      "cell_type": "markdown",
      "source": [
        "# Predict Dress Types - PyTorch\n",
        "Design and train a basic neural network on the FashionMNIST dataset\n",
        "#SherrillZ"
      ],
      "metadata": {
        "id": "VuYdIBFxcljg"
      }
    },
    {
      "cell_type": "code",
      "execution_count": null,
      "metadata": {
        "id": "RxlYZjLoVuKY"
      },
      "outputs": [],
      "source": [
        "# import the necessary libraries\n",
        "import math\n",
        "import torch\n",
        "from torch.utils.data import DataLoader #Dataset\n",
        "from torchvision import datasets\n",
        "from torchvision.transforms import Compose, ToTensor\n",
        "from torch import nn, optim\n",
        "import matplotlib.pyplot as plt\n",
        "from ipywidgets import widgets, interact, Layout"
      ]
    },
    {
      "cell_type": "code",
      "source": [
        "# displays output inline\n",
        "%matplotlib inline"
      ],
      "metadata": {
        "id": "y8vhK6POdMiN"
      },
      "execution_count": null,
      "outputs": []
    },
    {
      "cell_type": "code",
      "source": [
        "# train model on a hardware accelerator like the GPU if it is available, otherwise continue to use the CPU\n",
        "for index in range(torch.cuda.device_count()):\n",
        "  print(torch.cuda.get_device_properties(index))"
      ],
      "metadata": {
        "id": "SAKjWC_coRPL"
      },
      "execution_count": null,
      "outputs": []
    },
    {
      "cell_type": "markdown",
      "source": [
        "# Data Preprocessing"
      ],
      "metadata": {
        "id": "yqqMTXbWfJUy"
      }
    },
    {
      "cell_type": "code",
      "source": [
        "# use FashionMNIST dataset published by Zalando Research\n",
        "data_train = datasets.FashionMNIST(root='data', train=True, download=True, transform=ToTensor()) # =Compose([ToTensor()])\n",
        "data_test = datasets.FashionMNIST(root='data', train=False, download=True, transform=ToTensor()) # =Compose([ToTensor()])\n",
        "batch = 60\n",
        "load_train = DataLoader(data_train, batch_size=batch, shuffle=True)\n",
        "load_test = DataLoader(data_test, batch_size=batch, shuffle=True)"
      ],
      "metadata": {
        "id": "-OKMvQL8ZPAz",
        "colab": {
          "base_uri": "https://localhost:8080/",
          "height": 431,
          "referenced_widgets": [
            "c38d4d1242234457860b5aeadb2b652d",
            "c97e4d71ed044b368bcf9a57434c597f",
            "533f19fd440140a4a962192d0f7cc713",
            "ef78c2ef3f2d4fefb84c448b76e5ef50",
            "78e95140ea1d46c180196ab777756131",
            "6d23ac3cf9754117b96fbad1b41bf7bc",
            "3e9cc942b51c4c0f8ef09d6c23118bba",
            "1b9a44e2b1f14ced94032818ea8401ca",
            "bc5678bda59b445b9984dc12dd197db8",
            "a55a002e2d7a481cafd6daf43820c2fd",
            "9b1a8520851b476b8f80100f722a5c68",
            "80880dd83229468fb8b1ea39d98678cd",
            "bd60252155dc45bc82375dd271b68f2f",
            "da2eb582e30f4b128b84ffd6661ab7a7",
            "29e6e26759304898a277cd2e50e67689",
            "783a194b5cc44bc09307d92dc8bf76af",
            "b6528c4f1c304a6a833a74f58b02a7a8",
            "5047477ae1334d799ce7e37d8691bb34",
            "368f5735fa994d93912db482bfa4b13b",
            "c2ce3cb653d7479cb7006fcf41b8e9c8",
            "b1282b9634fa4df4a58705084e58cb8d",
            "517b95e461204a91ad1e049824f38455",
            "0e0af06268974f4fb1c867b36aa776b2",
            "0340486e2fc4477b8137c3b967d914ba",
            "bb839553e3d94d4c8a21b5ba4d7d8963",
            "ec8564e0f029483a9696ab94534f60fd",
            "f4114bbf2d6a416890f2c84f7f43ff8d",
            "27a924025b6846249edd843a2f4d0bfb",
            "b09de5a759a54061bd3ecd3bc0ff2551",
            "ab23293a4d50486dbce092e2eb833060",
            "4bdee5498580446795f881f62988303b",
            "82c6c170c0ec483f8b230d8cd9f52d77",
            "72f35f0ba0e949f8b89fb9935310599e",
            "80aca9d9ef034d8bba3d31ab595c978e",
            "e6801db06a29446594f968adab6a3f18",
            "c8e3ea6fddd846fb9415c71b2252fb82",
            "28308c8752034701969f097a398eeea6",
            "5a1ac11b93b94cbab57996af0ea750c0",
            "f21ef0bdd770474fb59534d89dc2b0c6",
            "677b0a075fb14f2a854554fd4c8a9207",
            "25049440dad7462ca3f18ffbfad4c1ff",
            "6761109eacd34c6db785b40d916da55a",
            "04f0d668d4284eeaacbd55cfed66ce04",
            "8d145429d72049728f27995417d73d77"
          ]
        },
        "outputId": "32e52d0e-56db-47a8-aced-79fb922d40f4"
      },
      "execution_count": null,
      "outputs": [
        {
          "output_type": "stream",
          "name": "stdout",
          "text": [
            "Downloading http://fashion-mnist.s3-website.eu-central-1.amazonaws.com/train-images-idx3-ubyte.gz\n",
            "Downloading http://fashion-mnist.s3-website.eu-central-1.amazonaws.com/train-images-idx3-ubyte.gz to data/FashionMNIST/raw/train-images-idx3-ubyte.gz\n"
          ]
        },
        {
          "output_type": "display_data",
          "data": {
            "text/plain": [
              "  0%|          | 0/26421880 [00:00<?, ?it/s]"
            ],
            "application/vnd.jupyter.widget-view+json": {
              "version_major": 2,
              "version_minor": 0,
              "model_id": "c38d4d1242234457860b5aeadb2b652d"
            }
          },
          "metadata": {}
        },
        {
          "output_type": "stream",
          "name": "stdout",
          "text": [
            "Extracting data/FashionMNIST/raw/train-images-idx3-ubyte.gz to data/FashionMNIST/raw\n",
            "\n",
            "Downloading http://fashion-mnist.s3-website.eu-central-1.amazonaws.com/train-labels-idx1-ubyte.gz\n",
            "Downloading http://fashion-mnist.s3-website.eu-central-1.amazonaws.com/train-labels-idx1-ubyte.gz to data/FashionMNIST/raw/train-labels-idx1-ubyte.gz\n"
          ]
        },
        {
          "output_type": "display_data",
          "data": {
            "text/plain": [
              "  0%|          | 0/29515 [00:00<?, ?it/s]"
            ],
            "application/vnd.jupyter.widget-view+json": {
              "version_major": 2,
              "version_minor": 0,
              "model_id": "80880dd83229468fb8b1ea39d98678cd"
            }
          },
          "metadata": {}
        },
        {
          "output_type": "stream",
          "name": "stdout",
          "text": [
            "Extracting data/FashionMNIST/raw/train-labels-idx1-ubyte.gz to data/FashionMNIST/raw\n",
            "\n",
            "Downloading http://fashion-mnist.s3-website.eu-central-1.amazonaws.com/t10k-images-idx3-ubyte.gz\n",
            "Downloading http://fashion-mnist.s3-website.eu-central-1.amazonaws.com/t10k-images-idx3-ubyte.gz to data/FashionMNIST/raw/t10k-images-idx3-ubyte.gz\n"
          ]
        },
        {
          "output_type": "display_data",
          "data": {
            "text/plain": [
              "  0%|          | 0/4422102 [00:00<?, ?it/s]"
            ],
            "application/vnd.jupyter.widget-view+json": {
              "version_major": 2,
              "version_minor": 0,
              "model_id": "0e0af06268974f4fb1c867b36aa776b2"
            }
          },
          "metadata": {}
        },
        {
          "output_type": "stream",
          "name": "stdout",
          "text": [
            "Extracting data/FashionMNIST/raw/t10k-images-idx3-ubyte.gz to data/FashionMNIST/raw\n",
            "\n",
            "Downloading http://fashion-mnist.s3-website.eu-central-1.amazonaws.com/t10k-labels-idx1-ubyte.gz\n",
            "Downloading http://fashion-mnist.s3-website.eu-central-1.amazonaws.com/t10k-labels-idx1-ubyte.gz to data/FashionMNIST/raw/t10k-labels-idx1-ubyte.gz\n"
          ]
        },
        {
          "output_type": "display_data",
          "data": {
            "text/plain": [
              "  0%|          | 0/5148 [00:00<?, ?it/s]"
            ],
            "application/vnd.jupyter.widget-view+json": {
              "version_major": 2,
              "version_minor": 0,
              "model_id": "80aca9d9ef034d8bba3d31ab595c978e"
            }
          },
          "metadata": {}
        },
        {
          "output_type": "stream",
          "name": "stdout",
          "text": [
            "Extracting data/FashionMNIST/raw/t10k-labels-idx1-ubyte.gz to data/FashionMNIST/raw\n",
            "\n"
          ]
        }
      ]
    },
    {
      "cell_type": "code",
      "source": [
        "# 60,000 training images, each image is a grayscale image with size 28x28 pixels\n",
        "# 10,000 testing images, each image is a grayscale image with size 28x28 pixels\n",
        "data_train.data.shape, data_train.targets.shape, data_train.targets.bincount(), data_test.data.shape, data_test.targets.shape, data_test.targets.bincount()"
      ],
      "metadata": {
        "colab": {
          "base_uri": "https://localhost:8080/"
        },
        "id": "Huo1DgYHZmEs",
        "outputId": "95bc5962-6bdd-42ca-e6d4-4ab35253df4f"
      },
      "execution_count": null,
      "outputs": [
        {
          "output_type": "execute_result",
          "data": {
            "text/plain": [
              "(torch.Size([60000, 28, 28]),\n",
              " torch.Size([60000]),\n",
              " tensor([6000, 6000, 6000, 6000, 6000, 6000, 6000, 6000, 6000, 6000]),\n",
              " torch.Size([10000, 28, 28]),\n",
              " torch.Size([10000]),\n",
              " tensor([1000, 1000, 1000, 1000, 1000, 1000, 1000, 1000, 1000, 1000]))"
            ]
          },
          "metadata": {},
          "execution_count": 5
        }
      ]
    },
    {
      "cell_type": "code",
      "source": [
        "# ten categories from 0 to 9\n",
        "data_train.classes, data_test.classes"
      ],
      "metadata": {
        "colab": {
          "base_uri": "https://localhost:8080/"
        },
        "id": "TbMB1jCuNIfy",
        "outputId": "46579e2a-1d63-4dba-d68b-c88b0e8991a9"
      },
      "execution_count": null,
      "outputs": [
        {
          "output_type": "execute_result",
          "data": {
            "text/plain": [
              "(['T-shirt/top',\n",
              "  'Trouser',\n",
              "  'Pullover',\n",
              "  'Dress',\n",
              "  'Coat',\n",
              "  'Sandal',\n",
              "  'Shirt',\n",
              "  'Sneaker',\n",
              "  'Bag',\n",
              "  'Ankle boot'],\n",
              " ['T-shirt/top',\n",
              "  'Trouser',\n",
              "  'Pullover',\n",
              "  'Dress',\n",
              "  'Coat',\n",
              "  'Sandal',\n",
              "  'Shirt',\n",
              "  'Sneaker',\n",
              "  'Bag',\n",
              "  'Ankle boot'])"
            ]
          },
          "metadata": {},
          "execution_count": 6
        }
      ]
    },
    {
      "cell_type": "code",
      "source": [
        "# scale the values between 0 and 1 for both training and testing sets\n",
        "data_train.data = data_train.data / 255.0\n",
        "data_test.data = data_test.data / 255.0"
      ],
      "metadata": {
        "id": "2OwxA5Pr680v"
      },
      "execution_count": null,
      "outputs": []
    },
    {
      "cell_type": "markdown",
      "source": [
        "# Training Set"
      ],
      "metadata": {
        "id": "X0ylHGcLk3hE"
      }
    },
    {
      "cell_type": "code",
      "source": [
        "# plot a grid of images with titles of correct names and labels of predicted names\n",
        "def plot(images, labels, predictions=None):\n",
        "  # create a grid with 10 columns\n",
        "  n_cols = min(10, len(images))\n",
        "  n_rows = math.ceil(len(images) / n_cols)\n",
        "  fig, axes = plt.subplots(n_rows, n_cols, figsize=(n_cols + 3, n_rows))\n",
        "  if predictions is None:\n",
        "    predictions = [None] * len(labels)\n",
        "  for index, (x, y_true, y_pred) in enumerate(zip(images, labels, predictions)):\n",
        "    ax = axes.flat[index]\n",
        "    ax.imshow(x, cmap=plt.cm.binary)\n",
        "    ax.set_title(data_train.classes[y_true])\n",
        "    if y_pred is not None:\n",
        "      ax.set_xlabel(data_train.classes[y_pred])\n",
        "    ax.set_xticks([])\n",
        "    ax.set_yticks([])\n",
        "# plot first 20 images\n",
        "plot(data_train.data[:20], data_train.targets[:20])"
      ],
      "metadata": {
        "colab": {
          "base_uri": "https://localhost:8080/",
          "height": 159
        },
        "id": "fxif33i8axBb",
        "outputId": "c4894846-84eb-44e0-96ac-7f7f58c700c4"
      },
      "execution_count": null,
      "outputs": [
        {
          "output_type": "display_data",
          "data": {
            "text/plain": [
              "<Figure size 936x144 with 20 Axes>"
            ],
            "image/png": "[encoded data removed]"
          },
          "metadata": {}
        }
      ]
    },
    {
      "cell_type": "markdown",
      "source": [
        "# Model in PyTorch"
      ],
      "metadata": {
        "id": "2M7luzSclfeA"
      }
    },
    {
      "cell_type": "code",
      "source": [
        "# create a sequential model of one hidden layer\n",
        "input_size = 28 * 28\n",
        "hidden_size = 128\n",
        "output_size = 10\n",
        "model = nn.Sequential(\n",
        "  nn.Linear(input_size, hidden_size), # apply linear transformation to hidden = input A^T + b\n",
        "  nn.ReLU(), # apply the rectified linear unit function element-wise\n",
        "  nn.Linear(hidden_size, output_size), # apply linear transformation to output = hidden A^T + b\n",
        "  nn.Softmax(dim=1)) # apply the dimensional output Tensor within the range [0,1] and sum to 1\n",
        "print(model)"
      ],
      "metadata": {
        "colab": {
          "base_uri": "https://localhost:8080/"
        },
        "id": "W41QohEpa6e-",
        "outputId": "ed1f7cbf-11f3-4070-b20b-90927632f397"
      },
      "execution_count": null,
      "outputs": [
        {
          "output_type": "stream",
          "name": "stdout",
          "text": [
            "Sequential(\n",
            "  (0): Linear(in_features=784, out_features=128, bias=True)\n",
            "  (1): ReLU()\n",
            "  (2): Linear(in_features=128, out_features=10, bias=True)\n",
            "  (3): Softmax(dim=1)\n",
            ")\n"
          ]
        }
      ]
    },
    {
      "cell_type": "code",
      "source": [
        "# train the model\n",
        "torch.manual_seed(20742)\n",
        "learning_rate = 0.001\n",
        "optimizer = optim.Adam(model.parameters(), lr=learning_rate) # implement Adam algorithm with learning rate\n",
        "error = nn.CrossEntropyLoss() # this criterion computes the cross entropy loss between input and target\n",
        "epochs = 10\n",
        "for epoch in range(epochs):\n",
        "  running_loss = 0\n",
        "  for images, labels in load_train:\n",
        "    train = images.view(images.shape[0], -1) # flatten image into a 784 vector\n",
        "    outputs = model(train)\n",
        "    loss = error(outputs, labels)\n",
        "    optimizer.zero_grad() # training pass\n",
        "    loss.backward() # learn by backpropagation\n",
        "    optimizer.step() # optimize weights\n",
        "    running_loss += loss.item()\n",
        "  else:\n",
        "    total = 0\n",
        "    correct = 0\n",
        "    for images, labels in load_train:\n",
        "      train = images.view(images.shape[0], -1) # flatten image into a 784 vector\n",
        "      outputs = model(train)\n",
        "      predictions = torch.max(outputs, 1)[1]\n",
        "      correct += (predictions == labels).sum()\n",
        "      total += len(labels)\n",
        "    print(f'Epoch {epoch + 1}/{epochs} - loss: {running_loss / total} - accuracy: {correct / total}')"
      ],
      "metadata": {
        "colab": {
          "base_uri": "https://localhost:8080/"
        },
        "id": "Vzi5hjYYA80Y",
        "outputId": "2e51ceb0-d19d-453f-e059-93c306e69466"
      },
      "execution_count": null,
      "outputs": [
        {
          "output_type": "stream",
          "name": "stdout",
          "text": [
            "Epoch 1/10 - loss: 0.03145902478098869 - accuracy: 0.6403499841690063\n",
            "Epoch 2/10 - loss: 0.030401008109251657 - accuracy: 0.654366672039032\n",
            "Epoch 3/10 - loss: 0.030210539629062016 - accuracy: 0.6500499844551086\n",
            "Epoch 4/10 - loss: 0.0300984421312809 - accuracy: 0.6612666845321655\n",
            "Epoch 5/10 - loss: 0.0300094524482886 - accuracy: 0.6704333424568176\n",
            "Epoch 6/10 - loss: 0.029925979552666345 - accuracy: 0.6725999712944031\n",
            "Epoch 7/10 - loss: 0.029851640397310256 - accuracy: 0.666266679763794\n",
            "Epoch 8/10 - loss: 0.02974110820690791 - accuracy: 0.6963000297546387\n",
            "Epoch 9/10 - loss: 0.029393079888820648 - accuracy: 0.7076333165168762\n",
            "Epoch 10/10 - loss: 0.02928364420135816 - accuracy: 0.7005000114440918\n"
          ]
        }
      ]
    },
    {
      "cell_type": "code",
      "source": [
        "# save the model\n",
        "torch.save(model, './Act6_Last_First_model.pt') "
      ],
      "metadata": {
        "id": "rkQMPNExE0aw"
      },
      "execution_count": null,
      "outputs": []
    },
    {
      "cell_type": "markdown",
      "source": [
        "# Testing Set"
      ],
      "metadata": {
        "id": "1Pz2Tuctln2L"
      }
    },
    {
      "cell_type": "code",
      "source": [
        "count = 0\n",
        "correct = 0\n",
        "for images, labels in load_test:\n",
        "  test = images.view(images.shape[0], -1) # flatten image into a 784 vector\n",
        "  with torch.no_grad():\n",
        "    probs = model(test)\n",
        "    preds = torch.max(probs, 1)[1]\n",
        "  correct += (preds == labels).sum()\n",
        "  count += len(labels)\n",
        "print(f'Tested {count} images - accuracy: {correct / count}')"
      ],
      "metadata": {
        "colab": {
          "base_uri": "https://localhost:8080/"
        },
        "id": "YYdfUYTGZ5d8",
        "outputId": "a091cf99-538f-44ff-b392-9d4c185f1402"
      },
      "execution_count": null,
      "outputs": [
        {
          "output_type": "stream",
          "name": "stdout",
          "text": [
            "Tested 10000 images - accuracy: 0.6708999872207642\n"
          ]
        }
      ]
    },
    {
      "cell_type": "code",
      "source": [
        "count = 0\n",
        "correct = 0\n",
        "for image, label in data_test:\n",
        "  test = image.view(1, 784) # flatten image into a 784 vector\n",
        "  with torch.no_grad():\n",
        "    probs = model(test)\n",
        "    pred = probs.argmax(1)\n",
        "  if (pred == label):\n",
        "    correct += 1\n",
        "  count += 1\n",
        "print(f'Tested {count} images - accuracy: {correct / count}')"
      ],
      "metadata": {
        "colab": {
          "base_uri": "https://localhost:8080/"
        },
        "id": "wihUpJF7bucu",
        "outputId": "ef66375d-3738-4b0f-e358-9ed3be7c132f"
      },
      "execution_count": null,
      "outputs": [
        {
          "output_type": "stream",
          "name": "stdout",
          "text": [
            "Tested 10000 images - accuracy: 0.6709\n"
          ]
        }
      ]
    },
    {
      "cell_type": "markdown",
      "source": [
        "# Application"
      ],
      "metadata": {
        "id": "VHj5RPEzmoCT"
      }
    },
    {
      "cell_type": "code",
      "source": [
        "img_idx_slider = widgets.IntSlider(value=0, min=0, max=len(data_test) - 1, description='Image index', layout=Layout(width='100%'))\n",
        "@interact(index=img_idx_slider)\n",
        "def visualize_prediction(index=0):\n",
        "  image, label = data_test[index]\n",
        "  test = image.view(1, 28 * 28)\n",
        "  with torch.no_grad():\n",
        "    probs = model(test)\n",
        "  pred = probs.argmax(1).item()\n",
        "  fix, (ax1, ax2) = plt.subplots(1, 2, figsize=(12, 6))\n",
        "  ax1.imshow(data_test.data[index], cmap=plt.cm.binary)\n",
        "  ax1.set_title(f'Label: {data_test.classes[data_test.targets[index]]}')\n",
        "  ax1.set_xlabel(f'Predict: {data_test.classes[pred]}')\n",
        "  ax1.set_ylabel('Pixel location index')\n",
        "  ax1.set_xticks(range(28))\n",
        "  ax1.set_yticks(range(28))\n",
        "  ax1.xaxis.tick_top()\n",
        "  ax1.tick_params(axis='x', labelrotation=90)\n",
        "  ax2.bar(x=data_test.classes, height=probs[0]*100)\n",
        "  ax2.set_xlabel('Prediction')\n",
        "  ax2.set_ylabel('Probability (%)')\n",
        "  ax2.set_ylim(0, 100)\n",
        "  ax2.tick_params(axis='x', labelrotation=90)"
      ],
      "metadata": {
        "colab": {
          "base_uri": "https://localhost:8080/",
          "height": 488,
          "referenced_widgets": [
            "31d3e0148685473d9df20ebe3f2d5361",
            "0c53a010737046ab821dae5a49d70a23",
            "be5b749fbcbb42ae9445693156a916ff",
            "4fbf72d9ffac4f5288afeb583c56031e",
            "b0ab6ff2a56846d3bc93ae52e0095c94",
            "fd80e36bae3e413a8a27cdc88bb424de",
            "4129fe6248f34d3d932187ba9399d95a"
          ]
        },
        "id": "CU5WlAFbr2-z",
        "outputId": "d31d5ce0-cdab-4f9f-ab4d-d98bae1ecc74"
      },
      "execution_count": null,
      "outputs": [
        {
          "output_type": "display_data",
          "data": {
            "text/plain": [
              "interactive(children=(IntSlider(value=0, description='Image index', layout=Layout(width='100%'), max=9999), Ou…"
            ],
            "application/vnd.jupyter.widget-view+json": {
              "version_major": 2,
              "version_minor": 0,
              "model_id": "31d3e0148685473d9df20ebe3f2d5361"
            }
          },
          "metadata": {}
        }
      ]
    }
  ]
}