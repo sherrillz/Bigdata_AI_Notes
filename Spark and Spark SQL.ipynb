{
  "nbformat": 4,
  "nbformat_minor": 0,
  "metadata": {
    "colab": {
      "provenance": [],
      "include_colab_link": true
    },
    "kernelspec": {
      "name": "python3",
      "display_name": "Python 3"
    },
    "language_info": {
      "name": "python"
    }
  },
  "cells": [
    {
      "cell_type": "markdown",
      "metadata": {
        "id": "view-in-github",
        "colab_type": "text"
      },
      "source": [
        "<a href=\"https://colab.research.google.com/github/sherrillz/Bigdata_AI_Notes/blob/main/Spark%20and%20Spark%20SQL.ipynb\" target=\"_parent\"><img src=\"https://colab.research.google.com/assets/colab-badge.svg\" alt=\"Open In Colab\"/></a>"
      ]
    },
    {
      "cell_type": "markdown",
      "source": [
        "# Spark and Spark SQL\n",
        "##SherrillZ"
      ],
      "metadata": {
        "id": "bE-9Cxg7dA28"
      }
    },
    {
      "cell_type": "code",
      "execution_count": null,
      "metadata": {
        "id": "kXYsSzw6aeBE"
      },
      "outputs": [],
      "source": [
        "# install Java Virtual Machine (JVM) from OpenJDK\n",
        "!apt-get install openjdk-8-jdk-headless -qq > /dev/null"
      ]
    },
    {
      "cell_type": "code",
      "source": [
        "# download and decompress Apache Spark with Hadoop from https://spark.apache.org/downloads.html\n",
        "!wget -q https://dlcdn.apache.org/spark/spark-3.2.1/spark-3.2.1-bin-hadoop3.2.tgz\n",
        "!tar xf spark-3.2.1-bin-hadoop3.2.tgz"
      ],
      "metadata": {
        "id": "aiPdf3_Saz2W"
      },
      "execution_count": null,
      "outputs": []
    },
    {
      "cell_type": "code",
      "source": [
        "# set environment path\n",
        "import os\n",
        "os.environ['JAVA_HOME'] = '/usr/lib/jvm/java-8-openjdk-amd64'\n",
        "os.environ['SPARK_HOME'] = '/content/spark-3.2.1-bin-hadoop3.2'"
      ],
      "metadata": {
        "id": "9Hrlj1IXcTBQ"
      },
      "execution_count": null,
      "outputs": []
    },
    {
      "cell_type": "code",
      "source": [
        "# install and import findspark to locate Spark on the system\n",
        "!pip install -q findspark\n",
        "import findspark\n",
        "findspark.init()\n",
        "findspark.find()"
      ],
      "metadata": {
        "id": "pr3AiejHcoAT",
        "colab": {
          "base_uri": "https://localhost:8080/",
          "height": 35
        },
        "outputId": "4605ddfd-a6d9-4b05-92a5-a227790d66cb"
      },
      "execution_count": null,
      "outputs": [
        {
          "output_type": "execute_result",
          "data": {
            "text/plain": [
              "'/content/spark-3.2.1-bin-hadoop3.2'"
            ],
            "application/vnd.google.colaboratory.intrinsic+json": {
              "type": "string"
            }
          },
          "metadata": {},
          "execution_count": 4
        }
      ]
    },
    {
      "cell_type": "code",
      "source": [
        "# Spark resilient distributed dataset (RDD)\n",
        "import pyspark\n",
        "sc = pyspark.SparkContext(appName='Act7')\n",
        "data = list(range(7))\n",
        "rdd = sc.parallelize(data)\n",
        "rdd.getNumPartitions(), rdd.collect()"
      ],
      "metadata": {
        "colab": {
          "base_uri": "https://localhost:8080/"
        },
        "id": "JqtO5D99CN3Z",
        "outputId": "bb58ada4-4240-4345-908f-9cc8cda5968a"
      },
      "execution_count": null,
      "outputs": [
        {
          "output_type": "execute_result",
          "data": {
            "text/plain": [
              "(2, [0, 1, 2, 3, 4, 5, 6])"
            ]
          },
          "metadata": {},
          "execution_count": 5
        }
      ]
    },
    {
      "cell_type": "code",
      "source": [
        "# import SparkSession from pyspark.sql and create a SparkSession, which is the entry point to Spark\n",
        "from pyspark.sql import SparkSession\n",
        "spark = SparkSession.builder.master('local').appName('Colab').config('spark.ui.port', '4050').getOrCreate()\n",
        "spark"
      ],
      "metadata": {
        "id": "-cfJx55Bc0Bq",
        "colab": {
          "base_uri": "https://localhost:8080/",
          "height": 220
        },
        "outputId": "b8c15ae0-0dce-4de8-f8dd-49b69c551936"
      },
      "execution_count": null,
      "outputs": [
        {
          "output_type": "execute_result",
          "data": {
            "text/plain": [
              "<pyspark.sql.session.SparkSession at 0x7f8ca51b1790>"
            ],
            "text/html": [
              "\n",
              "            <div>\n",
              "                <p><b>SparkSession - in-memory</b></p>\n",
              "                \n",
              "        <div>\n",
              "            <p><b>SparkContext</b></p>\n",
              "\n",
              "            <p><a href=\"http://1871534c7137:4040\">Spark UI</a></p>\n",
              "\n",
              "            <dl>\n",
              "              <dt>Version</dt>\n",
              "                <dd><code>v3.2.1</code></dd>\n",
              "              <dt>Master</dt>\n",
              "                <dd><code>local[*]</code></dd>\n",
              "              <dt>AppName</dt>\n",
              "                <dd><code>Act7</code></dd>\n",
              "            </dl>\n",
              "        </div>\n",
              "        \n",
              "            </div>\n",
              "        "
            ]
          },
          "metadata": {},
          "execution_count": 6
        }
      ]
    },
    {
      "cell_type": "code",
      "source": [
        "# authorize Colab to access Google Drive\n",
        "from google.colab import drive\n",
        "drive.mount('/content/drive')"
      ],
      "metadata": {
        "colab": {
          "base_uri": "https://localhost:8080/"
        },
        "id": "AagtxRNgC_1G",
        "outputId": "94f158a5-e1f9-4ca3-f255-59fe9a168d83"
      },
      "execution_count": null,
      "outputs": [
        {
          "output_type": "stream",
          "name": "stdout",
          "text": [
            "Drive already mounted at /content/drive; to attempt to forcibly remount, call drive.mount(\"/content/drive\", force_remount=True).\n"
          ]
        }
      ]
    },
    {
      "cell_type": "code",
      "source": [
        "# load data into PySpark\n",
        "df = spark.read.json('/content/drive/My Drive/Terp Drive/BUDT737.202201/act7_product.json')"
      ],
      "metadata": {
        "id": "fFMBrjYDeBaw"
      },
      "execution_count": null,
      "outputs": []
    },
    {
      "cell_type": "code",
      "source": [
        "# show column details\n",
        "df.printSchema()"
      ],
      "metadata": {
        "colab": {
          "base_uri": "https://localhost:8080/"
        },
        "id": "wRCQAeYoeHAh",
        "outputId": "53481c31-9afb-44c8-a572-d51e0eaade67"
      },
      "execution_count": null,
      "outputs": [
        {
          "output_type": "stream",
          "name": "stdout",
          "text": [
            "root\n",
            " |-- productDescription: string (nullable = true)\n",
            " |-- productFinish: string (nullable = true)\n",
            " |-- productID: long (nullable = true)\n",
            " |-- productLineID: long (nullable = true)\n",
            " |-- productStandardPrice: double (nullable = true)\n",
            "\n"
          ]
        }
      ]
    },
    {
      "cell_type": "code",
      "source": [
        "# display rows from top\n",
        "df.show(7)"
      ],
      "metadata": {
        "colab": {
          "base_uri": "https://localhost:8080/"
        },
        "id": "bGLwobgVeKS9",
        "outputId": "a63c227f-d6bf-4f3b-cecf-7cbe378616b4"
      },
      "execution_count": null,
      "outputs": [
        {
          "output_type": "stream",
          "name": "stdout",
          "text": [
            "+--------------------+-------------+---------+-------------+--------------------+\n",
            "|  productDescription|productFinish|productID|productLineID|productStandardPrice|\n",
            "+--------------------+-------------+---------+-------------+--------------------+\n",
            "|    Cherry End Table|       Cherry|        1|            1|               175.0|\n",
            "| Birch Coffee Tables|        Birch|        2|            1|               200.0|\n",
            "|   Oak Computer Desk|          Oak|        3|            1|               750.0|\n",
            "|Entertainment Center|       Cherry|        4|            1|              1650.0|\n",
            "|       Writer's Desk|          Oak|        5|            2|               325.0|\n",
            "|    8-Drawer Dresser|        Birch|        6|            1|               750.0|\n",
            "|         48 Bookcase|       Walnut|        7|            3|               150.0|\n",
            "+--------------------+-------------+---------+-------------+--------------------+\n",
            "only showing top 7 rows\n",
            "\n"
          ]
        }
      ]
    },
    {
      "cell_type": "code",
      "source": [
        "# total number of rows\n",
        "df.count()"
      ],
      "metadata": {
        "colab": {
          "base_uri": "https://localhost:8080/"
        },
        "id": "G7aiy2WkeNiM",
        "outputId": "538b070f-d952-4a27-9ada-2603edd9d729"
      },
      "execution_count": null,
      "outputs": [
        {
          "output_type": "execute_result",
          "data": {
            "text/plain": [
              "19"
            ]
          },
          "metadata": {},
          "execution_count": 11
        }
      ]
    },
    {
      "cell_type": "code",
      "source": [
        "# select columns\n",
        "df.select('productDescription', 'productFinish', 'productStandardPrice').show(7)"
      ],
      "metadata": {
        "colab": {
          "base_uri": "https://localhost:8080/"
        },
        "id": "lFfVvLqneRJh",
        "outputId": "90f28154-267d-4a4b-d896-0ee5edceb3ef"
      },
      "execution_count": null,
      "outputs": [
        {
          "output_type": "stream",
          "name": "stdout",
          "text": [
            "+--------------------+-------------+--------------------+\n",
            "|  productDescription|productFinish|productStandardPrice|\n",
            "+--------------------+-------------+--------------------+\n",
            "|    Cherry End Table|       Cherry|               175.0|\n",
            "| Birch Coffee Tables|        Birch|               200.0|\n",
            "|   Oak Computer Desk|          Oak|               750.0|\n",
            "|Entertainment Center|       Cherry|              1650.0|\n",
            "|       Writer's Desk|          Oak|               325.0|\n",
            "|    8-Drawer Dresser|        Birch|               750.0|\n",
            "|         48 Bookcase|       Walnut|               150.0|\n",
            "+--------------------+-------------+--------------------+\n",
            "only showing top 7 rows\n",
            "\n"
          ]
        }
      ]
    },
    {
      "cell_type": "code",
      "source": [
        "# filter rows then select columns\n",
        "df.filter('productFinish = \\'Cherry\\' AND productStandardPrice > 300').select('productDescription', 'productFinish', 'productStandardPrice').show()"
      ],
      "metadata": {
        "colab": {
          "base_uri": "https://localhost:8080/"
        },
        "id": "yLWkQ8bwedX1",
        "outputId": "afe188d2-af6f-4378-a358-0b4c0528bcd0"
      },
      "execution_count": null,
      "outputs": [
        {
          "output_type": "stream",
          "name": "stdout",
          "text": [
            "+--------------------+-------------+--------------------+\n",
            "|  productDescription|productFinish|productStandardPrice|\n",
            "+--------------------+-------------+--------------------+\n",
            "|Entertainment Center|       Cherry|              1650.0|\n",
            "+--------------------+-------------+--------------------+\n",
            "\n"
          ]
        }
      ]
    },
    {
      "cell_type": "code",
      "source": [
        "# select columns then filter rows\n",
        "df.select('productDescription', 'productFinish', 'productStandardPrice').filter('productFinish = \\'Cherry\\' AND productStandardPrice > 300').show()"
      ],
      "metadata": {
        "colab": {
          "base_uri": "https://localhost:8080/"
        },
        "id": "N7QRkOd4ehtO",
        "outputId": "faf0b0aa-ab7b-4b11-efbe-3d4040ed1a14"
      },
      "execution_count": null,
      "outputs": [
        {
          "output_type": "stream",
          "name": "stdout",
          "text": [
            "+--------------------+-------------+--------------------+\n",
            "|  productDescription|productFinish|productStandardPrice|\n",
            "+--------------------+-------------+--------------------+\n",
            "|Entertainment Center|       Cherry|              1650.0|\n",
            "+--------------------+-------------+--------------------+\n",
            "\n"
          ]
        }
      ]
    },
    {
      "cell_type": "code",
      "source": [
        "# distinct values\n",
        "df.select('productFinish').distinct().show()"
      ],
      "metadata": {
        "colab": {
          "base_uri": "https://localhost:8080/"
        },
        "id": "bqNbAtJsKOU-",
        "outputId": "59ab46a7-1801-404d-fab8-c77359eacbb2"
      },
      "execution_count": null,
      "outputs": [
        {
          "output_type": "stream",
          "name": "stdout",
          "text": [
            "+-------------+\n",
            "|productFinish|\n",
            "+-------------+\n",
            "|          Oak|\n",
            "|         Pine|\n",
            "|       Walnut|\n",
            "|        Birch|\n",
            "|      Leather|\n",
            "|       Cherry|\n",
            "+-------------+\n",
            "\n"
          ]
        }
      ]
    },
    {
      "cell_type": "code",
      "source": [
        "# sort values in ascending order\n",
        "df.select('productFinish').distinct().sort(df.productFinish).show()"
      ],
      "metadata": {
        "colab": {
          "base_uri": "https://localhost:8080/"
        },
        "id": "JPDrsT_ZK6mO",
        "outputId": "5a93c5ef-4064-49d5-fa33-42c82b7c11fa"
      },
      "execution_count": null,
      "outputs": [
        {
          "output_type": "stream",
          "name": "stdout",
          "text": [
            "+-------------+\n",
            "|productFinish|\n",
            "+-------------+\n",
            "|        Birch|\n",
            "|       Cherry|\n",
            "|      Leather|\n",
            "|          Oak|\n",
            "|         Pine|\n",
            "|       Walnut|\n",
            "+-------------+\n",
            "\n"
          ]
        }
      ]
    },
    {
      "cell_type": "code",
      "source": [
        "# order by values in descending order\n",
        "df.select('productStandardPrice').distinct().orderBy(df.productStandardPrice.desc()).show()"
      ],
      "metadata": {
        "colab": {
          "base_uri": "https://localhost:8080/"
        },
        "id": "SHp_M66jLYOK",
        "outputId": "882b7b40-5d03-4f56-dc92-0e857fce557c"
      },
      "execution_count": null,
      "outputs": [
        {
          "output_type": "stream",
          "name": "stdout",
          "text": [
            "+--------------------+\n",
            "|productStandardPrice|\n",
            "+--------------------+\n",
            "|              1650.0|\n",
            "|              1200.0|\n",
            "|              1100.0|\n",
            "|               890.0|\n",
            "|               800.0|\n",
            "|               750.0|\n",
            "|               500.0|\n",
            "|               362.0|\n",
            "|               325.0|\n",
            "|               300.0|\n",
            "|               256.0|\n",
            "|               225.0|\n",
            "|               200.0|\n",
            "|               175.0|\n",
            "|               150.0|\n",
            "+--------------------+\n",
            "\n"
          ]
        }
      ]
    },
    {
      "cell_type": "code",
      "source": [
        "# describe columns\n",
        "df.describe().show()"
      ],
      "metadata": {
        "colab": {
          "base_uri": "https://localhost:8080/"
        },
        "id": "zSU3rypWJCV6",
        "outputId": "9d44e4b8-7daf-4b3e-e642-4a024164aa31"
      },
      "execution_count": null,
      "outputs": [
        {
          "output_type": "stream",
          "name": "stdout",
          "text": [
            "+-------+------------------+-------------+------------------+------------------+--------------------+\n",
            "|summary|productDescription|productFinish|         productID|     productLineID|productStandardPrice|\n",
            "+-------+------------------+-------------+------------------+------------------+--------------------+\n",
            "|  count|                19|           19|                19|                19|                  19|\n",
            "|   mean|              null|         null|10.526315789473685|               2.0|   534.6315789473684|\n",
            "| stddev|              null|         null| 6.345325672866354|1.1055415967851332|   433.1982110517996|\n",
            "|    min|  4-Drawer Dresser|        Birch|                 1|                 1|               150.0|\n",
            "|    max|     Writer's Desk|       Walnut|                21|                 4|              1650.0|\n",
            "+-------+------------------+-------------+------------------+------------------+--------------------+\n",
            "\n"
          ]
        }
      ]
    },
    {
      "cell_type": "code",
      "source": [
        "# find the most expensive product\n",
        "from pyspark.sql.functions import max\n",
        "df_slt = df.select('productDescription', 'productFinish', 'productStandardPrice')\n",
        "maxValue = df_slt.agg(max('productStandardPrice')).collect()[0][0]\n",
        "print(f'max price = {maxValue}')\n",
        "df_slt.filter(df.productStandardPrice == maxValue).show()"
      ],
      "metadata": {
        "colab": {
          "base_uri": "https://localhost:8080/"
        },
        "id": "UFSwQJt_emjv",
        "outputId": "7fec2c93-78c9-46ea-dd74-d1e7a7fca6d3"
      },
      "execution_count": null,
      "outputs": [
        {
          "output_type": "stream",
          "name": "stdout",
          "text": [
            "max price = 1650.0\n",
            "+--------------------+-------------+--------------------+\n",
            "|  productDescription|productFinish|productStandardPrice|\n",
            "+--------------------+-------------+--------------------+\n",
            "|Entertainment Center|       Cherry|              1650.0|\n",
            "+--------------------+-------------+--------------------+\n",
            "\n"
          ]
        }
      ]
    },
    {
      "cell_type": "code",
      "source": [
        "# find the average price per finish\n",
        "from pyspark.sql.functions import avg\n",
        "df.groupBy('productFinish').agg(avg('productStandardPrice')).sort(df.productFinish).show()"
      ],
      "metadata": {
        "colab": {
          "base_uri": "https://localhost:8080/"
        },
        "id": "BRdqMqTXNFgr",
        "outputId": "3900ab38-371f-4689-d0c0-baa20ae29fe0"
      },
      "execution_count": null,
      "outputs": [
        {
          "output_type": "stream",
          "name": "stdout",
          "text": [
            "+-------------+-------------------------+\n",
            "|productFinish|avg(productStandardPrice)|\n",
            "+-------------+-------------------------+\n",
            "|        Birch|        416.6666666666667|\n",
            "|       Cherry|        658.3333333333334|\n",
            "|      Leather|                    362.0|\n",
            "|          Oak|                    592.5|\n",
            "|         Pine|                    256.0|\n",
            "|       Walnut|                    525.0|\n",
            "+-------------+-------------------------+\n",
            "\n"
          ]
        }
      ]
    }
  ]
}